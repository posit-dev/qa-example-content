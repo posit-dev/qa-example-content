{
 "cells": [
  {
   "cell_type": "code",
   "execution_count": null,
   "metadata": {},
   "outputs": [],
   "source": [
    "%matplotlib widget\n",
    "import numpy as np\n",
    "import matplotlib.pyplot as plt\n",
    "from ipywidgets import interact, widgets\n",
    " \n",
    "def circle(radius, linewidth, color):\n",
    "    angles = np.linspace(0,2*np.pi,100)\n",
    "    fig, ax = plt.subplots()\n",
    "    ax.set_aspect(1)\n",
    "    ax.set_xlim(-10,10)\n",
    "    ax.set_ylim(-10,10)\n",
    "    ax.plot(radius*np.cos(angles), radius*np.sin(angles), linewidth = linewidth, c = color)\n",
    "    plt.title('Circle of radius {} units'.format(radius))\n",
    "    plt.show()\n",
    " \n",
    "interact(\n",
    "    circle,\n",
    "    radius = widgets.FloatSlider(min = 0, max = 10, value = 1),\n",
    "    linewidth = widgets.IntSlider(min = 0, max = 5, value = 1),\n",
    "    color = widgets.ColorPicker()\n",
    ")"
   ]
  }
 ],
 "metadata": {
  "language_info": {
   "name": "r"
  }
 },
 "nbformat": 4,
 "nbformat_minor": 2
}
