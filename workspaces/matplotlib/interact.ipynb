{
 "cells": [
  {
   "cell_type": "code",
   "execution_count": 1,
   "metadata": {
    "vscode": {
     "languageId": "python"
    }
   },
   "outputs": [
    {
     "data": {
      "application/vnd.jupyter.widget-view+json": {
       "model_id": "e7693777b53849aab61973c51fc9a8e2",
       "version_major": 2,
       "version_minor": 0
      },
      "text/plain": [
       "interactive(children=(FloatSlider(value=1.0, description='radius', max=10.0), IntSlider(value=1, description='…"
      ]
     },
     "metadata": {},
     "output_type": "display_data"
    },
    {
     "data": {
      "text/plain": [
       "<function __main__.circle(radius, linewidth, color)>"
      ]
     },
     "execution_count": null,
     "metadata": {},
     "output_type": "execute_result"
    }
   ],
   "source": [
    "%matplotlib widget\n",
    "import numpy as np\n",
    "import matplotlib.pyplot as plt\n",
    "from ipywidgets import interact, widgets\n",
    " \n",
    "def circle(radius, linewidth, color):\n",
    "    angles = np.linspace(0,2*np.pi,100)\n",
    "    fig, ax = plt.subplots()\n",
    "    ax.set_aspect(1)\n",
    "    ax.set_xlim(-10,10)\n",
    "    ax.set_ylim(-10,10)\n",
    "    ax.plot(radius*np.cos(angles), radius*np.sin(angles), linewidth = linewidth, c = color)\n",
    "    plt.title('Circle of radius {} units'.format(radius))\n",
    "    plt.show()\n",
    " \n",
    "interact(\n",
    "    circle,\n",
    "    radius = widgets.FloatSlider(min = 0, max = 10, value = 1),\n",
    "    linewidth = widgets.IntSlider(min = 0, max = 5, value = 1),\n",
    "    color = widgets.ColorPicker()\n",
    ")"
   ]
  }
 ],
 "metadata": {
  "language_info": {
   "name": "python"
  }
 },
 "nbformat": 4,
 "nbformat_minor": 2
}
