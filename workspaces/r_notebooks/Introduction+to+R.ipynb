{
 "cells": [
  {
   "cell_type": "markdown",
   "metadata": {
    "collapsed": false
   },
   "source": [
    "<div style=\"text-align: center\"><img width=300px src=\"http://upload.wikimedia.org/wikipedia/commons/thumb/1/1b/R_logo.svg/200px-R_logo.svg.png\"></div>"
   ]
  },
  {
   "cell_type": "markdown",
   "metadata": {
    "collapsed": false
   },
   "source": [
    "# R and Jupyter"
   ]
  },
  {
   "cell_type": "markdown",
   "metadata": {
    "collapsed": false
   },
   "source": [
    "This notebook is here to demonstrate the integration capabilities of R with the Jupyter Project. \n",
    "The R kernel is still young, so miss a lot of feature, but can still display inline graphincs in notebooks.\n",
    "\n",
    "For simple comparison we reproduce here some part of the famous `demo(graphics)` command of R in the Jupyter notebook, \n",
    "Where the commend have been converted to markdown cells."
   ]
  },
  {
   "cell_type": "markdown",
   "metadata": {
    "collapsed": false
   },
   "source": [
    " # R demo"
   ]
  },
  {
   "cell_type": "markdown",
   "metadata": {
    "collapsed": false
   },
   "source": [
    "Here is some code which illustrates some of the differences between\n",
    "R and S graphics capabilities.  Note that colors are generally specified\n",
    "by a character string name (taken from the X11 rgb.txt file) and that line\n",
    "textures are given similarly.  The parameter \"bg\" sets the background\n",
    "parameter for the plot and there is also an \"fg\" parameter which sets\n",
    "the foreground color."
   ]
  },
  {
   "cell_type": "code",
   "execution_count": null,
   "metadata": {
    "collapsed": false
   },
   "outputs": [],
   "source": [
    "require(datasets)\n",
    "\n",
    "require(grDevices); require(graphics)"
   ]
  },
  {
   "cell_type": "code",
   "execution_count": null,
   "metadata": {
    "collapsed": false
   },
   "outputs": [],
   "source": [
    "x <- stats::rnorm(50)\n",
    "opar <- par(bg = \"white\")\n",
    "plot(x, ann = FALSE, type = \"n\") +\n",
    "abline(h = 0, col = gray(.90)) +\n",
    "lines(x, col = \"green4\", lty = \"dotted\") +\n",
    "points(x, bg = \"limegreen\", pch = 21) +\n",
    "title(main = \"Simple Use of Color In a Plot\",\n",
    "       xlab = \"Just a Whisper of a Label\",\n",
    "       col.main = \"blue\", col.lab = gray(.8),\n",
    "       cex.main = 1.2, cex.lab = 1.0, font.main = 4, font.lab = 3)"
   ]
  },
  {
   "cell_type": "markdown",
   "metadata": {
    "collapsed": false
   },
   "source": [
    "## A little color wheel.\n",
    "\n",
    "This code just plots equally spaced hues in\n",
    "a pie chart. If you have a cheap SVGA monitor (like me) you will\n",
    "probably find that numerically equispaced does not mean visually\n",
    "equispaced.  On my display at home, these colors tend to cluster at\n",
    "the RGB primaries.  On the other hand on the SGI Indy at work the\n",
    "effect is near perfect"
   ]
  },
  {
   "cell_type": "code",
   "execution_count": null,
   "metadata": {
    "collapsed": false
   },
   "outputs": [],
   "source": [
    "par(bg = \"gray\")\n",
    "\n",
    "pie(rep(1,24), col = rainbow(24), radius = 0.9) +\n",
    "title(main = \"A Sample Color Wheel\", cex.main = 1.4, font.main = 3) +\n",
    "title(xlab = \"(Use this as a test of monitor linearity)\",\n",
    "      cex.lab = 0.8, font.lab = 3)"
   ]
  },
  {
   "cell_type": "markdown",
   "metadata": {
    "collapsed": false
   },
   "source": [
    "# A scatterplot matrix\n",
    "The good old Iris data (yet again)"
   ]
  },
  {
   "cell_type": "code",
   "execution_count": null,
   "metadata": {
    "collapsed": false
   },
   "outputs": [],
   "source": [
    "pairs(iris[1:4], main=\"Edgar Anderson's Iris Data\", pch=21,\n",
    "       bg = c(\"red\", \"green3\", \"blue\")[unclass(iris$Species)])"
   ]
  },
  {
   "cell_type": "code",
   "execution_count": 0,
   "metadata": {
    "collapsed": false
   },
   "outputs": [],
   "source": []
  }
 ],
 "metadata": {
  "kernelspec": {
   "display_name": "R (R-Project)",
   "language": "r",
   "name": "ir"
  },
  "language_info": {
   "name": "r"
  }
 },
 "nbformat": 4,
 "nbformat_minor": 0
}
