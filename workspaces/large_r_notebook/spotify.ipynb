{
 "cells": [
  {
   "cell_type": "code",
   "execution_count": null,
   "metadata": {
    "vscode": {
     "languageId": "r"
    }
   },
   "outputs": [],
   "source": [
    "library(dplyr)\n",
    "\n",
    "# Suppress warnings\n",
    "options(warn = -1)\n",
    "\n",
    "# Set display options\n",
    "options(digits = 2)\n",
    "options(width = 120)\n",
    "\n",
    "# Set global theme options for ggplot2\n",
    "theme_set(theme_minimal(base_size = 18))  # Equivalent to setting `titlesize`\n",
    "\n",
    "input_dir <- file.path(getwd(), \"..\", \"..\", \"data-files\", \"spotify_data\")\n",
    "file_list <- list.files(input_dir, recursive = TRUE, full.names = TRUE)\n",
    "print(file_list)"
   ]
  },
  {
   "cell_type": "code",
   "execution_count": null,
   "metadata": {
    "vscode": {
     "languageId": "r"
    }
   },
   "outputs": [],
   "source": [
    "library(readr)\n",
    "\n",
    "data_file_path <- file.path(getwd(), \"..\", \"..\", \"data-files\", \"spotify_data\", \"data.csv\")\n",
    "df <- read_csv(data_file_path)\n",
    "\n",
    "# Print the first few rows\n",
    "head(df)"
   ]
  },
  {
   "cell_type": "code",
   "execution_count": 74,
   "metadata": {
    "vscode": {
     "languageId": "r"
    }
   },
   "outputs": [],
   "source": [
    "# Define mappings as named vectors\n",
    "map_key <- c(\n",
    "  \"0\" = \"C\", \"1\" = \"C#\", \"2\" = \"D\", \"3\" = \"D#\", \"4\" = \"E\",\n",
    "  \"5\" = \"F\", \"6\" = \"F#\", \"7\" = \"G\", \"8\" = \"G#\", \"9\" = \"A\",\n",
    "  \"10\" = \"A#\", \"11\" = \"B\"\n",
    ")\n",
    "\n",
    "map_mode <- c(\"1\" = \"Major\", \"0\" = \"Minor\")\n",
    "\n",
    "# Apply the mappings to the 'mode' and 'key' columns\n",
    "df$mode <- map_mode[as.character(df$mode)]\n",
    "df$key <- map_key[as.character(df$key)]"
   ]
  },
  {
   "cell_type": "code",
   "execution_count": 75,
   "metadata": {
    "vscode": {
     "languageId": "r"
    }
   },
   "outputs": [],
   "source": [
    "# Select columns to check for duplicates\n",
    "check_dups <- df[, c(\"artists\", \"name\")]\n",
    "\n",
    "# Find duplicated rows and get their indices\n",
    "dups <- which(duplicated(check_dups))"
   ]
  },
  {
   "cell_type": "code",
   "execution_count": null,
   "metadata": {
    "vscode": {
     "languageId": "r"
    }
   },
   "outputs": [],
   "source": [
    "# Print the row count before dropping duplicates\n",
    "cat(\"Before dropping duplicates:\", nrow(df), \"rows\\n\")\n",
    "\n",
    "# Drop duplicates using the indices found previously\n",
    "df <- df[-dups, ]\n",
    "\n",
    "# Print the row count after dropping duplicates\n",
    "cat(\"After dropping duplicates:\", nrow(df), \"rows\\n\")"
   ]
  },
  {
   "cell_type": "code",
   "execution_count": null,
   "metadata": {
    "vscode": {
     "languageId": "r"
    }
   },
   "outputs": [],
   "source": [
    "# Convert duration from milliseconds to minutes\n",
    "df$duration_ms <- df$duration_ms / 60000\n",
    "\n",
    "# Rename the column\n",
    "colnames(df)[colnames(df) == \"duration_ms\"] <- \"duration_min\"\n",
    "\n",
    "# Display the first few rows to verify\n",
    "head(df)"
   ]
  },
  {
   "cell_type": "code",
   "execution_count": null,
   "metadata": {
    "vscode": {
     "languageId": "r"
    }
   },
   "outputs": [],
   "source": [
    "# Drop columns \"release_date\" and \"id\"\n",
    "df$release_date <- NULL\n",
    "df$id <- NULL\n",
    "\n",
    "# Display the first few rows to verify\n",
    "head(df)"
   ]
  },
  {
   "cell_type": "code",
   "execution_count": 79,
   "metadata": {
    "vscode": {
     "languageId": "r"
    }
   },
   "outputs": [],
   "source": [
    "library(ggplot2)\n",
    "library(gridExtra)\n",
    "\n",
    "fun_subplots_ggplot <- function(df, col) {\n",
    "    mean_val <- mean(df[[col]], na.rm = TRUE)\n",
    "    median_val <- median(df[[col]], na.rm = TRUE)\n",
    "\n",
    "    # Create histogram\n",
    "    histogram_plot <- ggplot(df, aes_string(x = col)) +\n",
    "        geom_histogram(binwidth = (max(df[[col]], na.rm = TRUE) - min(df[[col]], na.rm = TRUE)) / 50, \n",
    "                       fill = \"#EBA0AC\", color = \"black\") +\n",
    "        labs(title = paste(\"Histogram of\", col), x = col, y = \"Count\") +\n",
    "        theme_minimal()\n",
    "\n",
    "    # Create boxplot\n",
    "    boxplot <- ggplot(df, aes_string(y = col)) +\n",
    "        geom_boxplot(fill = \"#F9E2AF\") +\n",
    "        labs(title = paste(\"Boxplot of\", col), y = col) +\n",
    "        theme_minimal()\n",
    "\n",
    "    # Combine plots\n",
    "    combined_plot <- grid.arrange(\n",
    "        histogram_plot,\n",
    "        boxplot,\n",
    "        ncol = 2\n",
    "    )\n",
    "\n",
    "    # Add mean and median lines\n",
    "    combined_plot <- combined_plot +\n",
    "        geom_vline(xintercept = mean_val, color = \"#A6E3A1\", linetype = \"dashed\", size = 1) +\n",
    "        geom_vline(xintercept = median_val, color = \"#CBA6F7\", linetype = \"dashed\", size = 1) +\n",
    "        annotate(\"text\", x = mean_val, y = 0, label = paste(\"Mean =\", round(mean_val, 2)), \n",
    "                 vjust = -1, color = \"#A6E3A1\") +\n",
    "        annotate(\"text\", x = median_val, y = 0, label = paste(\"Median =\", round(median_val, 2)), \n",
    "                 vjust = -1, color = \"#CBA6F7\")\n",
    "\n",
    "    print(combined_plot)\n",
    "}"
   ]
  },
  {
   "cell_type": "code",
   "execution_count": null,
   "metadata": {
    "vscode": {
     "languageId": "r"
    }
   },
   "outputs": [],
   "source": [
    "music_vals <- c(\n",
    "  \"valence\",\n",
    "  \"acousticness\",\n",
    "  \"danceability\",\n",
    "  \"duration_min\",\n",
    "  \"energy\",\n",
    "  \"instrumentalness\",\n",
    "  \"liveness\",\n",
    "  \"loudness\",\n",
    "  \"popularity\",\n",
    "  \"speechiness\",\n",
    "  \"tempo\"\n",
    ")\n",
    "\n",
    "for (col in music_vals) {\n",
    "  fun_subplots_ggplot(df, col)\n",
    "}"
   ]
  }
 ],
 "metadata": {
  "language_info": {
   "name": "r"
  }
 },
 "nbformat": 4,
 "nbformat_minor": 2
}
