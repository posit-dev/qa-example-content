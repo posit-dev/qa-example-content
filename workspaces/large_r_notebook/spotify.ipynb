{
 "cells": [
  {
   "cell_type": "markdown",
   "id": "a94b457c",
   "metadata": {},
   "source": [
    "# Spotify Music Data Analysis with ggplot2\n",
    "\n",
    "This notebook analyzes Spotify song data using R's ggplot2 package, exploring musical features, popularity trends, and decade-based patterns through static visualizations instead of interactive plotly charts."
   ]
  },
  {
   "cell_type": "code",
   "execution_count": null,
   "id": "cfbc0263",
   "metadata": {
    "vscode": {
     "languageId": "r"
    }
   },
   "outputs": [],
   "source": [
    "# Load Required Libraries\n",
    "library(dplyr)\n",
    "library(ggplot2)\n",
    "library(readr)\n",
    "library(tidyr)\n",
    "library(forcats)\n",
    "library(scales)\n",
    "library(GGally)\n",
    "library(viridis)\n",
    "library(RColorBrewer)\n",
    "library(gridExtra)\n",
    "library(corrplot)\n",
    "\n",
    "# Suppress warnings\n",
    "options(warn = -1)\n",
    "\n",
    "# Set display options\n",
    "options(digits = 2)\n",
    "options(width = 120)\n",
    "\n",
    "# List input files\n",
    "input_dir <- file.path(getwd(), \"..\", \"..\", \"data-files\", \"spotify_data\")\n",
    "file_list <- list.files(input_dir, recursive = TRUE, full.names = TRUE)\n",
    "print(file_list)"
   ]
  },
  {
   "cell_type": "markdown",
   "id": "430f9c51",
   "metadata": {},
   "source": [
    "## Import and Clean Data\n",
    "\n",
    "We'll start by importing the Spotify dataset and cleaning it:\n",
    "- Converting musical keys (numbers) to standard music notation (C, C#, etc.)\n",
    "- Converting mode from binary (0/1) to human-readable format (Minor/Major)\n",
    "- Removing duplicate songs\n",
    "- Converting duration from milliseconds to minutes"
   ]
  },
  {
   "cell_type": "code",
   "execution_count": null,
   "id": "bd3cfe50",
   "metadata": {
    "vscode": {
     "languageId": "r"
    }
   },
   "outputs": [],
   "source": [
    "# Read the data\n",
    "data_file_path <- file.path(getwd(), \"..\", \"..\", \"data-files\", \"spotify_data\", \"data.csv\")\n",
    "df <- read_csv(data_file_path)\n",
    "\n",
    "# Display data structure\n",
    "str(df)\n",
    "\n",
    "# Display first few rows\n",
    "head(df)"
   ]
  },
  {
   "cell_type": "code",
   "execution_count": null,
   "id": "5c66d123",
   "metadata": {
    "vscode": {
     "languageId": "r"
    }
   },
   "outputs": [],
   "source": [
    "# Define mappings as named vectors\n",
    "map_key <- c(\n",
    "  \"0\" = \"C\", \"1\" = \"C#\", \"2\" = \"D\", \"3\" = \"D#\", \"4\" = \"E\",\n",
    "  \"5\" = \"F\", \"6\" = \"F#\", \"7\" = \"G\", \"8\" = \"G#\", \"9\" = \"A\",\n",
    "  \"10\" = \"A#\", \"11\" = \"B\"\n",
    ")\n",
    "\n",
    "map_mode <- c(\"1\" = \"Major\", \"0\" = \"Minor\")\n",
    "\n",
    "# Apply the mappings to the 'mode' and 'key' columns\n",
    "df$mode <- map_mode[as.character(df$mode)]\n",
    "df$key <- map_key[as.character(df$key)]\n",
    "\n",
    "# Check for duplicates\n",
    "check_dups <- df[, c(\"artists\", \"name\")]\n",
    "dups <- which(duplicated(check_dups))\n",
    "\n",
    "# Drop duplicates\n",
    "cat(\"Before dropping duplicates:\", nrow(df), \"rows\\n\")\n",
    "df <- df[-dups, ]\n",
    "cat(\"After dropping duplicates:\", nrow(df), \"rows\\n\")\n",
    "\n",
    "# Convert duration from milliseconds to minutes\n",
    "df$duration_min <- df$duration_ms / 60000\n",
    "\n",
    "# Drop unused columns\n",
    "df$release_date <- NULL\n",
    "df$id <- NULL\n",
    "df$duration_ms <- NULL\n",
    "\n",
    "# Filter to songs with duration <= 5 minutes\n",
    "df <- df %>% filter(duration_min <= 5)\n",
    "\n",
    "# Summary of cleaned data\n",
    "summary(df)"
   ]
  },
  {
   "cell_type": "markdown",
   "id": "d4ad5892",
   "metadata": {},
   "source": [
    "## Basic Data Exploration with ggplot2\n",
    "\n",
    "Using ggplot2 to create visualizations of the various musical features in the dataset. \n",
    "We'll look at distributions of key metrics like valence, acousticness, danceability, etc."
   ]
  },
  {
   "cell_type": "code",
   "execution_count": null,
   "id": "6f8af123",
   "metadata": {
    "vscode": {
     "languageId": "r"
    }
   },
   "outputs": [],
   "source": [
    "# Define a theme for consistent visualization\n",
    "theme_spotify <- function() {\n",
    "  theme_minimal() +\n",
    "    theme(\n",
    "      plot.title = element_text(size = 14, face = \"bold\"),\n",
    "      plot.subtitle = element_text(size = 12),\n",
    "      axis.title = element_text(size = 10),\n",
    "      legend.position = \"right\",\n",
    "      panel.grid.minor = element_blank()\n",
    "    )\n",
    "}\n",
    "\n",
    "# Function to create distribution plots with ggplot2\n",
    "create_distribution_plot <- function(df, column) {\n",
    "  p1 <- ggplot(df, aes_string(x = column)) +\n",
    "    geom_histogram(bins = 30, fill = \"#1DB954\", alpha = 0.7) +\n",
    "    geom_vline(aes(xintercept = mean(df[[column]], na.rm = TRUE)), \n",
    "               color = \"#E3CF7A\", linetype = \"dashed\", size = 1) +\n",
    "    geom_vline(aes(xintercept = median(df[[column]], na.rm = TRUE)), \n",
    "               color = \"#F28C28\", linetype = \"dotted\", size = 1) +\n",
    "    annotate(\"text\", x = mean(df[[column]], na.rm = TRUE) + 0.05, \n",
    "             y = max(hist(df[[column]], plot = FALSE)$counts) * 0.9, \n",
    "             label = paste(\"Mean:\", round(mean(df[[column]], na.rm = TRUE), 2))) +\n",
    "    annotate(\"text\", x = median(df[[column]], na.rm = TRUE) - 0.05, \n",
    "             y = max(hist(df[[column]], plot = FALSE)$counts) * 0.8, \n",
    "             label = paste(\"Median:\", round(median(df[[column]], na.rm = TRUE), 2))) +\n",
    "    labs(title = paste(\"Distribution of\", column), \n",
    "         x = column, y = \"Count\") +\n",
    "    theme_spotify()\n",
    "  \n",
    "  p2 <- ggplot(df, aes_string(y = column)) +\n",
    "    geom_boxplot(fill = \"#1DB954\", alpha = 0.7) +\n",
    "    labs(title = paste(\"Boxplot of\", column), \n",
    "         x = \"\", y = column) +\n",
    "    theme_spotify() +\n",
    "    theme(axis.text.x = element_blank(), axis.ticks.x = element_blank())\n",
    "  \n",
    "  # Return both plots to be arranged with grid.arrange\n",
    "  return(list(p1, p2))\n",
    "}\n",
    "\n",
    "# Define the music values to analyze\n",
    "music_vals <- c(\n",
    "  \"valence\", \"acousticness\", \"danceability\", \"duration_min\",\n",
    "  \"energy\", \"instrumentalness\", \"liveness\", \"loudness\",\n",
    "  \"popularity\", \"speechiness\", \"tempo\"\n",
    ")\n",
    "\n",
    "# Create and display distribution plots for first few features\n",
    "for (col in music_vals[1:4]) {\n",
    "  plots <- create_distribution_plot(df, col)\n",
    "  grid.arrange(plots[[1]], plots[[2]], ncol = 2, widths = c(2, 1))\n",
    "}"
   ]
  },
  {
   "cell_type": "code",
   "execution_count": null,
   "id": "0e14f975",
   "metadata": {
    "vscode": {
     "languageId": "r"
    }
   },
   "outputs": [],
   "source": [
    "# Create density plots for key musical features\n",
    "musical_features <- c(\"valence\", \"energy\", \"danceability\", \"acousticness\")\n",
    "\n",
    "ggplot(df, aes(x = valence, fill = \"Valence\")) +\n",
    "  geom_density(alpha = 0.5) +\n",
    "  geom_density(aes(x = energy, fill = \"Energy\"), alpha = 0.5) +\n",
    "  geom_density(aes(x = danceability, fill = \"Danceability\"), alpha = 0.5) +\n",
    "  labs(title = \"Density Comparison of Key Musical Features\",\n",
    "       x = \"Value\", y = \"Density\",\n",
    "       fill = \"Feature\") +\n",
    "  scale_fill_brewer(palette = \"Set1\") +\n",
    "  theme_spotify() +\n",
    "  theme(legend.position = \"top\")"
   ]
  },
  {
   "cell_type": "markdown",
   "id": "b10726b3",
   "metadata": {},
   "source": [
    "## Decade Analysis\n",
    "\n",
    "Categorizing songs by decade to analyze musical trends over time. This helps us understand\n",
    "how musical preferences and styles have evolved from the 1920s to the 2010s."
   ]
  },
  {
   "cell_type": "code",
   "execution_count": null,
   "id": "7b73d2ec",
   "metadata": {
    "vscode": {
     "languageId": "r"
    }
   },
   "outputs": [],
   "source": [
    "# Create decade bins\n",
    "decade_breaks <- c(1920, 1930, 1940, 1950, 1960, 1970, 1980, 1990, 2000, 2010, 2020)\n",
    "df$decade <- cut(df$year, breaks = decade_breaks, include.lowest = FALSE, right = TRUE)\n",
    "\n",
    "# Map decade intervals to simpler labels\n",
    "map_decade <- c(\n",
    "  \"(1920,1930]\" = \"1920s\",\n",
    "  \"(1930,1940]\" = \"1930s\",\n",
    "  \"(1940,1950]\" = \"1940s\",\n",
    "  \"(1950,1960]\" = \"1950s\",\n",
    "  \"(1960,1970]\" = \"1960s\",\n",
    "  \"(1970,1980]\" = \"1970s\",\n",
    "  \"(1980,1990]\" = \"1980s\",\n",
    "  \"(1990,2000]\" = \"1990s\",\n",
    "  \"(2000,2010]\" = \"2000s\",\n",
    "  \"(2010,2020]\" = \"2010s\"\n",
    ")\n",
    "\n",
    "df$decade <- map_decade[as.character(df$decade)]\n",
    "\n",
    "# Display counts by decade\n",
    "decade_counts <- df %>%\n",
    "  count(decade) %>%\n",
    "  arrange(decade)\n",
    "\n",
    "# Plot songs per decade using ggplot2\n",
    "ggplot(decade_counts, aes(x = reorder(decade, 1:nrow(decade_counts)), y = n)) +\n",
    "  geom_bar(stat = \"identity\", fill = \"#1DB954\", alpha = 0.8) +\n",
    "  geom_text(aes(label = n), vjust = -0.5) +\n",
    "  labs(title = \"Count of Songs per Decade\",\n",
    "       x = \"Decade\", y = \"Number of Songs\") +\n",
    "  theme_spotify() +\n",
    "  theme(axis.text.x = element_text(angle = 45, hjust = 1))"
   ]
  },
  {
   "cell_type": "code",
   "execution_count": null,
   "id": "a8fa1979",
   "metadata": {
    "vscode": {
     "languageId": "r"
    }
   },
   "outputs": [],
   "source": [
    "# Analyze trends in musical features across decades\n",
    "decade_features <- df %>%\n",
    "  group_by(decade) %>%\n",
    "  summarize(across(\n",
    "    .cols = all_of(c(\"valence\", \"energy\", \"acousticness\", \"danceability\")),\n",
    "    .fns = mean,\n",
    "    .names = \"{.col}\"\n",
    "  ))\n",
    "\n",
    "# Convert to long format for faceted plotting\n",
    "decade_features_long <- decade_features %>%\n",
    "  pivot_longer(cols = c(\"valence\", \"energy\", \"acousticness\", \"danceability\"),\n",
    "               names_to = \"feature\", \n",
    "               values_to = \"value\")\n",
    "\n",
    "# Create faceted plot of features by decade\n",
    "ggplot(decade_features_long, aes(x = decade, y = value, group = feature)) +\n",
    "  geom_line(aes(color = feature), size = 1) +\n",
    "  geom_point(aes(color = feature), size = 3) +\n",
    "  facet_wrap(~feature, scales = \"free_y\") +\n",
    "  scale_color_brewer(palette = \"Set1\") +\n",
    "  labs(title = \"Musical Features Trends Across Decades\",\n",
    "       x = \"Decade\", y = \"Average Value\",\n",
    "       color = \"Feature\") +\n",
    "  theme_spotify() +\n",
    "  theme(axis.text.x = element_text(angle = 45, hjust = 1))"
   ]
  },
  {
   "cell_type": "code",
   "execution_count": null,
   "id": "495367d3",
   "metadata": {
    "vscode": {
     "languageId": "r"
    }
   },
   "outputs": [],
   "source": [
    "# Boxplots of popularity by decade\n",
    "ggplot(df, aes(x = decade, y = popularity, fill = decade)) +\n",
    "  geom_boxplot() +\n",
    "  scale_fill_viridis_d() +\n",
    "  labs(title = \"Distribution of Song Popularity by Decade\",\n",
    "       x = \"Decade\", y = \"Popularity\") +\n",
    "  theme_spotify() +\n",
    "  theme(axis.text.x = element_text(angle = 45, hjust = 1),\n",
    "        legend.position = \"none\")"
   ]
  },
  {
   "cell_type": "markdown",
   "id": "6f04f7a0",
   "metadata": {},
   "source": [
    "## Key and Mode Analysis\n",
    "\n",
    "Analyzing the distribution of musical keys and modes across the dataset, and their relationship \n",
    "with song popularity. Musical keys (C, C#, D, etc.) and modes (Major/Minor) significantly \n",
    "influence the emotional tone of songs."
   ]
  },
  {
   "cell_type": "code",
   "execution_count": null,
   "id": "22f4f686",
   "metadata": {
    "vscode": {
     "languageId": "r"
    }
   },
   "outputs": [],
   "source": [
    "# Create key-mode combinations\n",
    "df$key_mode <- paste(df$key, \"-\", df$mode)\n",
    "\n",
    "# Analyze distribution of keys\n",
    "key_counts <- df %>%\n",
    "  count(key) %>%\n",
    "  arrange(desc(n))\n",
    "\n",
    "# Visualize key distribution\n",
    "ggplot(key_counts, aes(x = reorder(key, -n), y = n)) +\n",
    "  geom_bar(stat = \"identity\", fill = \"#1DB954\", alpha = 0.8) +\n",
    "  geom_text(aes(label = n), vjust = -0.5) +\n",
    "  labs(title = \"Distribution of Musical Keys\",\n",
    "       x = \"Key\", y = \"Number of Songs\") +\n",
    "  theme_spotify()"
   ]
  },
  {
   "cell_type": "code",
   "execution_count": null,
   "id": "0fc4c24b",
   "metadata": {
    "vscode": {
     "languageId": "r"
    }
   },
   "outputs": [],
   "source": [
    "# Analyze distribution of modes\n",
    "mode_counts <- df %>%\n",
    "  count(mode) %>%\n",
    "  arrange(desc(n))\n",
    "\n",
    "# Visualize mode distribution\n",
    "ggplot(mode_counts, aes(x = mode, y = n, fill = mode)) +\n",
    "  geom_bar(stat = \"identity\") +\n",
    "  geom_text(aes(label = n), vjust = -0.5) +\n",
    "  scale_fill_manual(values = c(\"Major\" = \"#1DB954\", \"Minor\" = \"#F28C28\")) +\n",
    "  labs(title = \"Distribution of Musical Modes\",\n",
    "       x = \"Mode\", y = \"Number of Songs\") +\n",
    "  theme_spotify() +\n",
    "  theme(legend.position = \"none\")"
   ]
  },
  {
   "cell_type": "code",
   "execution_count": null,
   "id": "fcbce712",
   "metadata": {
    "vscode": {
     "languageId": "r"
    }
   },
   "outputs": [],
   "source": [
    "# Mode distribution by decade\n",
    "decade_mode <- df %>%\n",
    "  count(decade, mode) %>%\n",
    "  group_by(decade) %>%\n",
    "  mutate(percentage = n / sum(n) * 100)\n",
    "\n",
    "# Visualize mode distribution by decade\n",
    "ggplot(decade_mode, aes(x = decade, y = percentage, fill = mode)) +\n",
    "  geom_bar(stat = \"identity\", position = \"dodge\") +\n",
    "  geom_text(aes(label = sprintf(\"%.1f%%\", percentage)), \n",
    "            position = position_dodge(width = 0.9), vjust = -0.5, size = 3) +\n",
    "  scale_fill_manual(values = c(\"Major\" = \"#1DB954\", \"Minor\" = \"#F28C28\")) +\n",
    "  labs(title = \"Distribution of Musical Modes by Decade\",\n",
    "       x = \"Decade\", y = \"Percentage\", fill = \"Mode\") +\n",
    "  theme_spotify() +\n",
    "  theme(axis.text.x = element_text(angle = 45, hjust = 1))"
   ]
  },
  {
   "cell_type": "code",
   "execution_count": null,
   "id": "93dc0361",
   "metadata": {
    "vscode": {
     "languageId": "r"
    }
   },
   "outputs": [],
   "source": [
    "# Key mode vs popularity\n",
    "key_mode_popularity <- df %>%\n",
    "  group_by(key_mode) %>%\n",
    "  summarise(\n",
    "    avg_popularity = mean(popularity, na.rm = TRUE),\n",
    "    count = n()\n",
    "  ) %>%\n",
    "  filter(count > 20) %>%  # Filter to key-modes with sufficient data\n",
    "  arrange(desc(avg_popularity))\n",
    "\n",
    "# Visualize key-mode vs popularity\n",
    "ggplot(key_mode_popularity, aes(x = reorder(key_mode, avg_popularity), y = avg_popularity)) +\n",
    "  geom_bar(stat = \"identity\", aes(fill = avg_popularity)) +\n",
    "  scale_fill_viridis() +\n",
    "  coord_flip() +\n",
    "  labs(title = \"Average Popularity by Musical Key and Mode\",\n",
    "       x = \"Key-Mode Combination\", y = \"Average Popularity\") +\n",
    "  theme_spotify() +\n",
    "  theme(legend.position = \"none\")"
   ]
  },
  {
   "cell_type": "code",
   "execution_count": null,
   "id": "25219068",
   "metadata": {
    "vscode": {
     "languageId": "r"
    }
   },
   "outputs": [],
   "source": [
    "# Create a heatmap of key-mode combinations across decades\n",
    "key_mode_decade <- df %>%\n",
    "  count(decade, key_mode) %>%\n",
    "  group_by(decade) %>%\n",
    "  mutate(percentage = n / sum(n) * 100) %>%\n",
    "  ungroup()\n",
    "\n",
    "# Pivot for heatmap\n",
    "key_mode_heatmap <- key_mode_decade %>%\n",
    "  select(decade, key_mode, n) %>%\n",
    "  pivot_wider(names_from = decade, values_from = n, values_fill = 0)\n",
    "\n",
    "# Convert back to long form for ggplot2\n",
    "key_mode_heatmap_long <- key_mode_heatmap %>%\n",
    "  pivot_longer(cols = -key_mode, names_to = \"decade\", values_to = \"count\")\n",
    "\n",
    "# Create heatmap\n",
    "ggplot(key_mode_heatmap_long, aes(x = decade, y = key_mode, fill = count)) +\n",
    "  geom_tile() +\n",
    "  scale_fill_viridis(name = \"Count\") +\n",
    "  labs(title = \"Distribution of Key-Mode Combinations Across Decades\",\n",
    "       x = \"Decade\", y = \"Key-Mode\") +\n",
    "  theme_spotify() +\n",
    "  theme(axis.text.x = element_text(angle = 45, hjust = 1))"
   ]
  },
  {
   "cell_type": "markdown",
   "id": "d7111bc3",
   "metadata": {},
   "source": [
    "## Artist Popularity Analysis\n",
    "\n",
    "Extracting artist information and analyzing the most popular artists in the dataset, including \n",
    "their song counts and musical characteristics."
   ]
  },
  {
   "cell_type": "code",
   "execution_count": null,
   "id": "6e46b28b",
   "metadata": {
    "vscode": {
     "languageId": "r"
    }
   },
   "outputs": [],
   "source": [
    "# Extract first artist from the artists list\n",
    "df$first_artist <- sapply(\n",
    "  strsplit(gsub(\"\\\\[|\\\\]|'\", \"\", df$artists), \",\"), \n",
    "  function(x) trimws(x[1])\n",
    ")\n",
    "\n",
    "# Find most popular artists with at least 45 songs\n",
    "popularity_check <- df %>%\n",
    "  group_by(first_artist) %>%\n",
    "  summarise(\n",
    "    mean_popularity = mean(popularity, na.rm = TRUE),\n",
    "    count = n(),\n",
    "    median_popularity = median(popularity, na.rm = TRUE)\n",
    "  ) %>%\n",
    "  filter(count > 45) %>%\n",
    "  arrange(desc(mean_popularity)) %>%\n",
    "  head(50)\n",
    "\n",
    "# Display the top 10 most popular artists\n",
    "head(popularity_check, 10)"
   ]
  },
  {
   "cell_type": "code",
   "execution_count": null,
   "id": "cada0ee6",
   "metadata": {
    "vscode": {
     "languageId": "r"
    }
   },
   "outputs": [],
   "source": [
    "# Visualize top 20 artists by popularity\n",
    "top_20_artists <- head(popularity_check, 20)\n",
    "\n",
    "ggplot(top_20_artists, aes(x = reorder(first_artist, mean_popularity), y = mean_popularity)) +\n",
    "  geom_bar(stat = \"identity\", aes(fill = count)) +\n",
    "  scale_fill_viridis(name = \"Number of Songs\") +\n",
    "  coord_flip() +\n",
    "  labs(title = \"Top 20 Artists by Average Song Popularity\",\n",
    "       subtitle = \"For artists with at least 45 songs\",\n",
    "       x = \"Artist\", y = \"Average Popularity\") +\n",
    "  theme_spotify()"
   ]
  },
  {
   "cell_type": "code",
   "execution_count": null,
   "id": "0125f7bd",
   "metadata": {
    "vscode": {
     "languageId": "r"
    }
   },
   "outputs": [],
   "source": [
    "# Get songs by top 50 artists\n",
    "top_50_artists <- df %>%\n",
    "  filter(first_artist %in% popularity_check$first_artist)\n",
    "\n",
    "# Analyze musical features by top artists\n",
    "top_artist_features <- top_50_artists %>%\n",
    "  group_by(first_artist) %>%\n",
    "  summarise(\n",
    "    avg_valence = mean(valence, na.rm = TRUE),\n",
    "    avg_energy = mean(energy, na.rm = TRUE),\n",
    "    avg_danceability = mean(danceability, na.rm = TRUE),\n",
    "    avg_acousticness = mean(acousticness, na.rm = TRUE),\n",
    "    avg_popularity = mean(popularity, na.rm = TRUE)\n",
    "  ) %>%\n",
    "  arrange(desc(avg_popularity))\n",
    "\n",
    "# Select top 10 for visualization\n",
    "top_10_artist_features <- head(top_artist_features, 10)\n",
    "\n",
    "# Convert to long format for faceted visualization\n",
    "top_artist_features_long <- top_10_artist_features %>%\n",
    "  pivot_longer(\n",
    "    cols = starts_with(\"avg_\"),\n",
    "    names_to = \"feature\",\n",
    "    values_to = \"value\"\n",
    "  ) %>%\n",
    "  mutate(\n",
    "    feature = gsub(\"avg_\", \"\", feature),\n",
    "    artist = factor(first_artist, levels = top_10_artist_features$first_artist)\n",
    "  )\n",
    "\n",
    "# Create faceted plot of musical features for top 10 artists\n",
    "ggplot(top_artist_features_long, aes(x = artist, y = value, fill = feature)) +\n",
    "  geom_bar(stat = \"identity\", position = \"dodge\") +\n",
    "  facet_wrap(~feature, scales = \"free_y\") +\n",
    "  scale_fill_brewer(palette = \"Set1\") +\n",
    "  labs(title = \"Musical Feature Comparison of Top 10 Artists\",\n",
    "       x = \"\", y = \"Average Value\") +\n",
    "  theme_spotify() +\n",
    "  theme(\n",
    "    axis.text.x = element_text(angle = 45, hjust = 1),\n",
    "    legend.position = \"none\"\n",
    "  )"
   ]
  },
  {
   "cell_type": "code",
   "execution_count": null,
   "id": "10d34584",
   "metadata": {
    "vscode": {
     "languageId": "r"
    }
   },
   "outputs": [],
   "source": [
    "# Distribution of decades for top artists\n",
    "decades_count <- top_50_artists %>%\n",
    "  count(decade) %>%\n",
    "  arrange(decade)\n",
    "\n",
    "# Visualize decades in top artists' songs\n",
    "ggplot(decades_count, aes(x = decade, y = n, fill = decade)) +\n",
    "  geom_bar(stat = \"identity\") +\n",
    "  geom_text(aes(label = n), vjust = -0.5) +\n",
    "  scale_fill_viridis_d() +\n",
    "  labs(title = \"Distribution of Decades in Top Artists' Songs\",\n",
    "       x = \"Decade\", y = \"Number of Songs\") +\n",
    "  theme_spotify() +\n",
    "  theme(axis.text.x = element_text(angle = 45, hjust = 1),\n",
    "        legend.position = \"none\")"
   ]
  },
  {
   "cell_type": "markdown",
   "id": "cce84116",
   "metadata": {},
   "source": [
    "## Feature Correlation Visualization\n",
    "\n",
    "Creating visualizations that show correlations between different musical features, helping\n",
    "us understand how these attributes relate to each other and to song popularity."
   ]
  },
  {
   "cell_type": "code",
   "execution_count": null,
   "id": "22e5debe",
   "metadata": {
    "vscode": {
     "languageId": "r"
    }
   },
   "outputs": [],
   "source": [
    "# Select numeric features for correlation analysis\n",
    "cols <- c(\n",
    "  \"valence\", \"acousticness\", \"danceability\", \"duration_min\",\n",
    "  \"energy\", \"instrumentalness\", \"liveness\", \"loudness\",\n",
    "  \"year\", \"speechiness\", \"tempo\", \"popularity\"\n",
    ")\n",
    "\n",
    "# Calculate correlation matrix\n",
    "corr_matrix <- cor(df[cols], use = \"complete.obs\")\n",
    "\n",
    "# Create correlation heatmap using ggplot2\n",
    "corr_df <- as.data.frame(as.table(corr_matrix))\n",
    "names(corr_df) <- c(\"Feature1\", \"Feature2\", \"Correlation\")\n",
    "\n",
    "ggplot(corr_df, aes(x = Feature1, y = Feature2, fill = Correlation)) +\n",
    "  geom_tile() +\n",
    "  scale_fill_gradient2(\n",
    "    low = \"blue\", mid = \"white\", high = \"red\",\n",
    "    midpoint = 0, limits = c(-1, 1)\n",
    "  ) +\n",
    "  geom_text(aes(label = sprintf(\"%.2f\", Correlation)), size = 2.5) +\n",
    "  labs(title = \"Correlation Matrix of Musical Features\",\n",
    "       x = \"\", y = \"\") +\n",
    "  theme_spotify() +\n",
    "  theme(axis.text.x = element_text(angle = 45, hjust = 1))"
   ]
  },
  {
   "cell_type": "code",
   "execution_count": null,
   "id": "421db0c3",
   "metadata": {
    "vscode": {
     "languageId": "r"
    }
   },
   "outputs": [],
   "source": [
    "# Create pair plots for selected key features\n",
    "key_features <- c(\"popularity\", \"valence\", \"energy\", \"danceability\", \"year\")\n",
    "\n",
    "# Sample a subset of data for the pair plot (to avoid overplotting)\n",
    "set.seed(123)\n",
    "sample_df <- df %>% sample_n(min(5000, nrow(df)))\n",
    "\n",
    "# Create pair plot with GGally\n",
    "ggpairs(\n",
    "  sample_df, \n",
    "  columns = key_features,\n",
    "  upper = list(continuous = \"cor\"),\n",
    "  diag = list(continuous = \"barDiag\"),\n",
    "  lower = list(continuous = \"smooth\")\n",
    ") +\n",
    "  labs(title = \"Pair Plot of Key Musical Features\") +\n",
    "  theme_spotify()"
   ]
  },
  {
   "cell_type": "markdown",
   "id": "7525ed5c",
   "metadata": {},
   "source": [
    "## Music Feature Trends Over Time\n",
    "\n",
    "Analyzing how musical characteristics have changed throughout the decades, showing the\n",
    "evolution of popular music from the 1920s to the 2010s."
   ]
  },
  {
   "cell_type": "code",
   "execution_count": null,
   "id": "f1e85dfb",
   "metadata": {
    "vscode": {
     "languageId": "r"
    }
   },
   "outputs": [],
   "source": [
    "# Analyze musical feature trends over time by year\n",
    "year_features <- df %>%\n",
    "  group_by(year) %>%\n",
    "  filter(n() > 5) %>%  # Filter to years with sufficient data\n",
    "  summarise(\n",
    "    avg_valence = mean(valence, na.rm = TRUE),\n",
    "    avg_energy = mean(energy, na.rm = TRUE),\n",
    "    avg_acousticness = mean(acousticness, na.rm = TRUE),\n",
    "    avg_danceability = mean(danceability, na.rm = TRUE),\n",
    "    avg_popularity = mean(popularity, na.rm = TRUE),\n",
    "    count = n()\n",
    "  ) %>%\n",
    "  filter(year >= 1950) # Focus on more recent years with better data\n",
    "\n",
    "# Convert to long format for plotting\n",
    "year_features_long <- year_features %>%\n",
    "  pivot_longer(\n",
    "    cols = starts_with(\"avg_\"),\n",
    "    names_to = \"feature\",\n",
    "    values_to = \"value\"\n",
    "  ) %>%\n",
    "  mutate(feature = gsub(\"avg_\", \"\", feature))\n",
    "\n",
    "# Create time series plots with smoothed trend lines\n",
    "ggplot(year_features_long, aes(x = year, y = value, color = feature)) +\n",
    "  geom_point(alpha = 0.3) +\n",
    "  geom_smooth(method = \"loess\", se = TRUE) +\n",
    "  facet_wrap(~feature, scales = \"free_y\") +\n",
    "  scale_color_brewer(palette = \"Set1\") +\n",
    "  labs(title = \"Musical Feature Trends Over Time (1950-2020)\",\n",
    "       x = \"Year\", y = \"Average Value\",\n",
    "       color = \"Feature\") +\n",
    "  theme_spotify() +\n",
    "  theme(legend.position = \"none\")"
   ]
  },
  {
   "cell_type": "code",
   "execution_count": null,
   "id": "db858bca",
   "metadata": {
    "vscode": {
     "languageId": "r"
    }
   },
   "outputs": [],
   "source": [
    "# Analyze the evolution of key and mode preferences over time\n",
    "key_year <- df %>%\n",
    "  filter(year >= 1950) %>%\n",
    "  group_by(year) %>%\n",
    "  filter(n() > 30) %>%  # Filter to years with sufficient data\n",
    "  group_by(year, key) %>%\n",
    "  summarise(count = n(), .groups = \"drop\") %>%\n",
    "  group_by(year) %>%\n",
    "  mutate(percentage = count / sum(count) * 100)\n",
    "\n",
    "# Visualize the evolution of key preferences\n",
    "ggplot(key_year, aes(x = year, y = percentage, fill = key)) +\n",
    "  geom_area() +\n",
    "  scale_fill_brewer(palette = \"Spectral\", name = \"Musical Key\") +\n",
    "  labs(title = \"Evolution of Musical Key Preferences (1950-2020)\",\n",
    "       x = \"Year\", y = \"Percentage of Songs\") +\n",
    "  theme_spotify()"
   ]
  },
  {
   "cell_type": "code",
   "execution_count": null,
   "id": "0592635e",
   "metadata": {
    "vscode": {
     "languageId": "r"
    }
   },
   "outputs": [],
   "source": [
    "# Analyze the relationship between year and popularity\n",
    "ggplot(df, aes(x = year, y = popularity)) +\n",
    "  geom_hex(bins = 30) +\n",
    "  scale_fill_viridis(name = \"Count\") +\n",
    "  geom_smooth(color = \"white\", se = FALSE) +\n",
    "  labs(title = \"Relationship Between Release Year and Song Popularity\",\n",
    "       x = \"Release Year\", y = \"Popularity Score\") +\n",
    "  theme_spotify()"
   ]
  },
  {
   "cell_type": "code",
   "execution_count": null,
   "id": "7b657f8d",
   "metadata": {
    "vscode": {
     "languageId": "r"
    }
   },
   "outputs": [],
   "source": [
    "# Compare musical characteristics of popular songs across different eras\n",
    "popularity_threshold <- 75\n",
    "\n",
    "popular_songs <- df %>%\n",
    "  filter(popularity >= popularity_threshold) %>%\n",
    "  mutate(era = case_when(\n",
    "    year < 1970 ~ \"Pre-1970s\",\n",
    "    year < 1990 ~ \"1970s-1980s\",\n",
    "    year < 2010 ~ \"1990s-2000s\",\n",
    "    TRUE ~ \"2010s+\"\n",
    "  ))\n",
    "\n",
    "# Calculate average features by era for popular songs\n",
    "popular_era_features <- popular_songs %>%\n",
    "  group_by(era) %>%\n",
    "  summarise(\n",
    "    avg_valence = mean(valence, na.rm = TRUE),\n",
    "    avg_energy = mean(energy, na.rm = TRUE),\n",
    "    avg_acousticness = mean(acousticness, na.rm = TRUE),\n",
    "    avg_danceability = mean(danceability, na.rm = TRUE),\n",
    "    song_count = n()\n",
    "  ) %>%\n",
    "  arrange(factor(era, levels = c(\"Pre-1970s\", \"1970s-1980s\", \"1990s-2000s\", \"2010s+\")))\n",
    "\n",
    "# Convert to long format for visualization\n",
    "popular_era_long <- popular_era_features %>%\n",
    "  pivot_longer(\n",
    "    cols = starts_with(\"avg_\"),\n",
    "    names_to = \"feature\",\n",
    "    values_to = \"value\"\n",
    "  ) %>%\n",
    "  mutate(feature = gsub(\"avg_\", \"\", feature))\n",
    "\n",
    "# Create radar chart data\n",
    "popular_era_wide <- popular_era_long %>%\n",
    "  pivot_wider(names_from = era, values_from = value)\n",
    "\n",
    "# Create grouped bar chart of features by era\n",
    "ggplot(popular_era_long, aes(x = feature, y = value, fill = era)) +\n",
    "  geom_bar(stat = \"identity\", position = \"dodge\") +\n",
    "  geom_text(aes(label = sprintf(\"%.2f\", value)), \n",
    "            position = position_dodge(width = 0.9), vjust = -0.5, size = 3) +\n",
    "  scale_fill_brewer(palette = \"Set2\", name = \"Era\") +\n",
    "  labs(title = paste(\"Musical Features of Popular Songs (Popularity ≥\", popularity_threshold, \")\"),\n",
    "       subtitle = \"Comparison Across Different Eras\",\n",
    "       x = \"\", y = \"Average Value\") +\n",
    "  theme_spotify() +\n",
    "  theme(axis.text.x = element_text(angle = 0))"
   ]
  },
  {
   "cell_type": "markdown",
   "id": "65f72d36",
   "metadata": {},
   "source": [
    "## Conclusion\n",
    "\n",
    "This analysis has explored the Spotify dataset using ggplot2 visualizations, revealing:\n",
    "\n",
    "1. Distributions and trends in musical features across songs\n",
    "2. Evolution of musical characteristics over different decades\n",
    "3. Popularity patterns related to musical keys and modes\n",
    "4. Notable artists and their musical signatures\n",
    "5. Correlations between different musical attributes\n",
    "\n",
    "These insights provide a comprehensive understanding of what makes songs popular \n",
    "and how musical preferences have evolved over time. The ggplot2 visualizations\n",
    "have allowed us to create aesthetically pleasing and informative static plots\n",
    "that effectively communicate these patterns."
   ]
  }
 ],
 "metadata": {
  "language_info": {
   "name": "r"
  }
 },
 "nbformat": 4,
 "nbformat_minor": 5
}
