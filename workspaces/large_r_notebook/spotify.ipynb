{
 "cells": [
  {
   "cell_type": "code",
   "execution_count": 72,
   "metadata": {
    "vscode": {
     "languageId": "r"
    }
   },
   "outputs": [
    {
     "name": "stdout",
     "output_type": "stream",
     "text": [
      "[1] \"/Users/christophermead/posit/qa-example-content/workspaces/large_r_notebook/../../data-files/spotify_data/data.csv\"\n"
     ]
    }
   ],
   "source": [
    "library(dplyr)\n",
    "\n",
    "# Suppress warnings\n",
    "options(warn = -1)\n",
    "\n",
    "# Set display options\n",
    "options(digits = 2)\n",
    "options(width = 120)\n",
    "\n",
    "# Set global theme options for ggplot2\n",
    "theme_set(theme_minimal(base_size = 18))  # Equivalent to setting `titlesize`\n",
    "\n",
    "input_dir <- file.path(getwd(), \"..\", \"..\", \"data-files\", \"spotify_data\")\n",
    "file_list <- list.files(input_dir, recursive = TRUE, full.names = TRUE)\n",
    "print(file_list)"
   ]
  },
  {
   "cell_type": "code",
   "execution_count": 73,
   "metadata": {
    "vscode": {
     "languageId": "r"
    }
   },
   "outputs": [
    {
     "name": "stdout",
     "output_type": "stream",
     "text": [
      "\u001b[1mRows: \u001b[22m\u001b[34m170653\u001b[39m \u001b[1mColumns: \u001b[22m\u001b[34m19\u001b[39m\n",
      "\u001b[36m──\u001b[39m \u001b[1mColumn specification\u001b[22m \u001b[36m────────────────────────────────────────────────────────────────────────────────────────────────\u001b[39m\n",
      "\u001b[1mDelimiter:\u001b[22m \",\"\n",
      "\u001b[31mchr\u001b[39m  (4): artists, id, name, release_date\n",
      "\u001b[32mdbl\u001b[39m (15): valence, year, acousticness, danceability, duration_ms, energy, explicit, instrumentalness, key, liveness,...\n",
      "\n",
      "\u001b[36mℹ\u001b[39m Use `spec()` to retrieve the full column specification for this data.\n",
      "\u001b[36mℹ\u001b[39m Specify the column types or set `show_col_types = FALSE` to quiet this message.\n"
     ]
    },
    {
     "data": {
      "text/plain": [
       "\u001b[38;5;246m# A tibble: 6 × 19\u001b[39m\n",
       "  valence  year acousticness artists      danceability duration_ms energy explicit id    instrumentalness   key liveness\n",
       "    \u001b[3m\u001b[38;5;246m<dbl>\u001b[39m\u001b[23m \u001b[3m\u001b[38;5;246m<dbl>\u001b[39m\u001b[23m        \u001b[3m\u001b[38;5;246m<dbl>\u001b[39m\u001b[23m \u001b[3m\u001b[38;5;246m<chr>\u001b[39m\u001b[23m               \u001b[3m\u001b[38;5;246m<dbl>\u001b[39m\u001b[23m       \u001b[3m\u001b[38;5;246m<dbl>\u001b[39m\u001b[23m  \u001b[3m\u001b[38;5;246m<dbl>\u001b[39m\u001b[23m    \u001b[3m\u001b[38;5;246m<dbl>\u001b[39m\u001b[23m \u001b[3m\u001b[38;5;246m<chr>\u001b[39m\u001b[23m            \u001b[3m\u001b[38;5;246m<dbl>\u001b[39m\u001b[23m \u001b[3m\u001b[38;5;246m<dbl>\u001b[39m\u001b[23m    \u001b[3m\u001b[38;5;246m<dbl>\u001b[39m\u001b[23m\n",
       "\u001b[38;5;250m1\u001b[39m  0.059\u001b[4m4\u001b[24m  \u001b[4m1\u001b[24m921        0.982 ['Sergei Ra…        0.279      \u001b[4m8\u001b[24m\u001b[4m3\u001b[24m\u001b[4m1\u001b[24m667  0.211        0 4BJq…       0.878         10    0.665\n",
       "\u001b[38;5;250m2\u001b[39m  0.963   \u001b[4m1\u001b[24m921        0.732 ['Dennis Da…        0.819      \u001b[4m1\u001b[24m\u001b[4m8\u001b[24m\u001b[4m0\u001b[24m533  0.341        0 7xPh…       0              7    0.16 \n",
       "\u001b[38;5;250m3\u001b[39m  0.039\u001b[4m4\u001b[24m  \u001b[4m1\u001b[24m921        0.961 ['KHP Kridh…        0.328      \u001b[4m5\u001b[24m\u001b[4m0\u001b[24m\u001b[4m0\u001b[24m062  0.166        0 1o6I…       0.913          3    0.101\n",
       "\u001b[38;5;250m4\u001b[39m  0.165   \u001b[4m1\u001b[24m921        0.967 ['Frank Par…        0.275      \u001b[4m2\u001b[24m\u001b[4m1\u001b[24m\u001b[4m0\u001b[24m000  0.309        0 3ftB…       0.000\u001b[4m0\u001b[24m\u001b[4m2\u001b[24m\u001b[4m7\u001b[24m7      5    0.381\n",
       "\u001b[38;5;250m5\u001b[39m  0.253   \u001b[4m1\u001b[24m921        0.957 ['Phil Rega…        0.418      \u001b[4m1\u001b[24m\u001b[4m6\u001b[24m\u001b[4m6\u001b[24m693  0.193        0 4d6H…       0.000\u001b[4m0\u001b[24m\u001b[4m0\u001b[24m\u001b[4m1\u001b[24m68     3    0.229\n",
       "\u001b[38;5;250m6\u001b[39m  0.196   \u001b[4m1\u001b[24m921        0.579 ['KHP Kridh…        0.697      \u001b[4m3\u001b[24m\u001b[4m9\u001b[24m\u001b[4m5\u001b[24m076  0.346        0 4pyw…       0.168          2    0.13 \n",
       "\u001b[38;5;246m# ℹ 7 more variables: loudness <dbl>, mode <dbl>, name <chr>, popularity <dbl>, release_date <chr>, speechiness <dbl>,\u001b[39m\n",
       "\u001b[38;5;246m#   tempo <dbl>\u001b[39m"
      ]
     },
     "execution_count": null,
     "metadata": {},
     "output_type": "execute_result"
    }
   ],
   "source": [
    "library(readr)\n",
    "\n",
    "data_file_path <- file.path(getwd(), \"..\", \"..\", \"data-files\", \"spotify_data\", \"data.csv\")\n",
    "df <- read_csv(data_file_path)\n",
    "\n",
    "# Print the first few rows\n",
    "head(df)"
   ]
  },
  {
   "cell_type": "code",
   "execution_count": 74,
   "metadata": {
    "vscode": {
     "languageId": "r"
    }
   },
   "outputs": [],
   "source": [
    "# Define mappings as named vectors\n",
    "map_key <- c(\n",
    "  \"0\" = \"C\", \"1\" = \"C#\", \"2\" = \"D\", \"3\" = \"D#\", \"4\" = \"E\",\n",
    "  \"5\" = \"F\", \"6\" = \"F#\", \"7\" = \"G\", \"8\" = \"G#\", \"9\" = \"A\",\n",
    "  \"10\" = \"A#\", \"11\" = \"B\"\n",
    ")\n",
    "\n",
    "map_mode <- c(\"1\" = \"Major\", \"0\" = \"Minor\")\n",
    "\n",
    "# Apply the mappings to the 'mode' and 'key' columns\n",
    "df$mode <- map_mode[as.character(df$mode)]\n",
    "df$key <- map_key[as.character(df$key)]"
   ]
  },
  {
   "cell_type": "code",
   "execution_count": 75,
   "metadata": {
    "vscode": {
     "languageId": "r"
    }
   },
   "outputs": [],
   "source": [
    "# Select columns to check for duplicates\n",
    "check_dups <- df[, c(\"artists\", \"name\")]\n",
    "\n",
    "# Find duplicated rows and get their indices\n",
    "dups <- which(duplicated(check_dups))"
   ]
  },
  {
   "cell_type": "code",
   "execution_count": 76,
   "metadata": {
    "vscode": {
     "languageId": "r"
    }
   },
   "outputs": [
    {
     "name": "stdout",
     "output_type": "stream",
     "text": [
      "Before dropping duplicates: 170653 rows\n",
      "After dropping duplicates: 157685 rows\n"
     ]
    }
   ],
   "source": [
    "# Print the row count before dropping duplicates\n",
    "cat(\"Before dropping duplicates:\", nrow(df), \"rows\\n\")\n",
    "\n",
    "# Drop duplicates using the indices found previously\n",
    "df <- df[-dups, ]\n",
    "\n",
    "# Print the row count after dropping duplicates\n",
    "cat(\"After dropping duplicates:\", nrow(df), \"rows\\n\")"
   ]
  },
  {
   "cell_type": "code",
   "execution_count": 77,
   "metadata": {
    "vscode": {
     "languageId": "r"
    }
   },
   "outputs": [
    {
     "data": {
      "text/plain": [
       "\u001b[38;5;246m# A tibble: 6 × 19\u001b[39m\n",
       "  valence  year acousticness artists     danceability duration_min energy explicit id    instrumentalness key   liveness\n",
       "    \u001b[3m\u001b[38;5;246m<dbl>\u001b[39m\u001b[23m \u001b[3m\u001b[38;5;246m<dbl>\u001b[39m\u001b[23m        \u001b[3m\u001b[38;5;246m<dbl>\u001b[39m\u001b[23m \u001b[3m\u001b[38;5;246m<chr>\u001b[39m\u001b[23m              \u001b[3m\u001b[38;5;246m<dbl>\u001b[39m\u001b[23m        \u001b[3m\u001b[38;5;246m<dbl>\u001b[39m\u001b[23m  \u001b[3m\u001b[38;5;246m<dbl>\u001b[39m\u001b[23m    \u001b[3m\u001b[38;5;246m<dbl>\u001b[39m\u001b[23m \u001b[3m\u001b[38;5;246m<chr>\u001b[39m\u001b[23m            \u001b[3m\u001b[38;5;246m<dbl>\u001b[39m\u001b[23m \u001b[3m\u001b[38;5;246m<chr>\u001b[39m\u001b[23m    \u001b[3m\u001b[38;5;246m<dbl>\u001b[39m\u001b[23m\n",
       "\u001b[38;5;250m1\u001b[39m  0.059\u001b[4m4\u001b[24m  \u001b[4m1\u001b[24m921        0.982 ['Sergei R…        0.279        13.9   0.211        0 4BJq…       0.878      A#       0.665\n",
       "\u001b[38;5;250m2\u001b[39m  0.963   \u001b[4m1\u001b[24m921        0.732 ['Dennis D…        0.819         3.01  0.341        0 7xPh…       0          G        0.16 \n",
       "\u001b[38;5;250m3\u001b[39m  0.039\u001b[4m4\u001b[24m  \u001b[4m1\u001b[24m921        0.961 ['KHP Krid…        0.328         8.33  0.166        0 1o6I…       0.913      D#       0.101\n",
       "\u001b[38;5;250m4\u001b[39m  0.165   \u001b[4m1\u001b[24m921        0.967 ['Frank Pa…        0.275         3.5   0.309        0 3ftB…       0.000\u001b[4m0\u001b[24m\u001b[4m2\u001b[24m\u001b[4m7\u001b[24m7  F        0.381\n",
       "\u001b[38;5;250m5\u001b[39m  0.253   \u001b[4m1\u001b[24m921        0.957 ['Phil Reg…        0.418         2.78  0.193        0 4d6H…       0.000\u001b[4m0\u001b[24m\u001b[4m0\u001b[24m\u001b[4m1\u001b[24m68 D#       0.229\n",
       "\u001b[38;5;250m6\u001b[39m  0.196   \u001b[4m1\u001b[24m921        0.579 ['KHP Krid…        0.697         6.58  0.346        0 4pyw…       0.168      D        0.13 \n",
       "\u001b[38;5;246m# ℹ 7 more variables: loudness <dbl>, mode <chr>, name <chr>, popularity <dbl>, release_date <chr>, speechiness <dbl>,\u001b[39m\n",
       "\u001b[38;5;246m#   tempo <dbl>\u001b[39m"
      ]
     },
     "execution_count": null,
     "metadata": {},
     "output_type": "execute_result"
    }
   ],
   "source": [
    "# Convert duration from milliseconds to minutes\n",
    "df$duration_ms <- df$duration_ms / 60000\n",
    "\n",
    "# Rename the column\n",
    "colnames(df)[colnames(df) == \"duration_ms\"] <- \"duration_min\"\n",
    "\n",
    "# Display the first few rows to verify\n",
    "head(df)"
   ]
  },
  {
   "cell_type": "code",
   "execution_count": 78,
   "metadata": {
    "vscode": {
     "languageId": "r"
    }
   },
   "outputs": [
    {
     "data": {
      "text/plain": [
       "\u001b[38;5;246m# A tibble: 6 × 17\u001b[39m\n",
       "  valence  year acousticness artists  danceability duration_min energy explicit instrumentalness key   liveness loudness\n",
       "    \u001b[3m\u001b[38;5;246m<dbl>\u001b[39m\u001b[23m \u001b[3m\u001b[38;5;246m<dbl>\u001b[39m\u001b[23m        \u001b[3m\u001b[38;5;246m<dbl>\u001b[39m\u001b[23m \u001b[3m\u001b[38;5;246m<chr>\u001b[39m\u001b[23m           \u001b[3m\u001b[38;5;246m<dbl>\u001b[39m\u001b[23m        \u001b[3m\u001b[38;5;246m<dbl>\u001b[39m\u001b[23m  \u001b[3m\u001b[38;5;246m<dbl>\u001b[39m\u001b[23m    \u001b[3m\u001b[38;5;246m<dbl>\u001b[39m\u001b[23m            \u001b[3m\u001b[38;5;246m<dbl>\u001b[39m\u001b[23m \u001b[3m\u001b[38;5;246m<chr>\u001b[39m\u001b[23m    \u001b[3m\u001b[38;5;246m<dbl>\u001b[39m\u001b[23m    \u001b[3m\u001b[38;5;246m<dbl>\u001b[39m\u001b[23m\n",
       "\u001b[38;5;250m1\u001b[39m  0.059\u001b[4m4\u001b[24m  \u001b[4m1\u001b[24m921        0.982 ['Serge…        0.279        13.9   0.211        0       0.878      A#       0.665   -\u001b[31m20\u001b[39m\u001b[31m.\u001b[39m\u001b[31m1\u001b[39m \n",
       "\u001b[38;5;250m2\u001b[39m  0.963   \u001b[4m1\u001b[24m921        0.732 ['Denni…        0.819         3.01  0.341        0       0          G        0.16    -\u001b[31m12\u001b[39m\u001b[31m.\u001b[39m\u001b[31m4\u001b[39m \n",
       "\u001b[38;5;250m3\u001b[39m  0.039\u001b[4m4\u001b[24m  \u001b[4m1\u001b[24m921        0.961 ['KHP K…        0.328         8.33  0.166        0       0.913      D#       0.101   -\u001b[31m14\u001b[39m\u001b[31m.\u001b[39m\u001b[31m8\u001b[39m \n",
       "\u001b[38;5;250m4\u001b[39m  0.165   \u001b[4m1\u001b[24m921        0.967 ['Frank…        0.275         3.5   0.309        0       0.000\u001b[4m0\u001b[24m\u001b[4m2\u001b[24m\u001b[4m7\u001b[24m7  F        0.381    -\u001b[31m9\u001b[39m\u001b[31m.\u001b[39m\u001b[31m32\u001b[39m\n",
       "\u001b[38;5;250m5\u001b[39m  0.253   \u001b[4m1\u001b[24m921        0.957 ['Phil …        0.418         2.78  0.193        0       0.000\u001b[4m0\u001b[24m\u001b[4m0\u001b[24m\u001b[4m1\u001b[24m68 D#       0.229   -\u001b[31m10\u001b[39m\u001b[31m.\u001b[39m\u001b[31m1\u001b[39m \n",
       "\u001b[38;5;250m6\u001b[39m  0.196   \u001b[4m1\u001b[24m921        0.579 ['KHP K…        0.697         6.58  0.346        0       0.168      D        0.13    -\u001b[31m12\u001b[39m\u001b[31m.\u001b[39m\u001b[31m5\u001b[39m \n",
       "\u001b[38;5;246m# ℹ 5 more variables: mode <chr>, name <chr>, popularity <dbl>, speechiness <dbl>, tempo <dbl>\u001b[39m"
      ]
     },
     "execution_count": null,
     "metadata": {},
     "output_type": "execute_result"
    }
   ],
   "source": [
    "# Drop columns \"release_date\" and \"id\"\n",
    "df$release_date <- NULL\n",
    "df$id <- NULL\n",
    "\n",
    "# Display the first few rows to verify\n",
    "head(df)"
   ]
  },
  {
   "cell_type": "code",
   "execution_count": 79,
   "metadata": {
    "vscode": {
     "languageId": "r"
    }
   },
   "outputs": [],
   "source": [
    "library(ggplot2)\n",
    "library(gridExtra)\n",
    "\n",
    "fun_subplots_ggplot <- function(df, col) {\n",
    "    mean_val <- mean(df[[col]], na.rm = TRUE)\n",
    "    median_val <- median(df[[col]], na.rm = TRUE)\n",
    "\n",
    "    # Create histogram\n",
    "    histogram_plot <- ggplot(df, aes_string(x = col)) +\n",
    "        geom_histogram(binwidth = (max(df[[col]], na.rm = TRUE) - min(df[[col]], na.rm = TRUE)) / 50, \n",
    "                       fill = \"#EBA0AC\", color = \"black\") +\n",
    "        labs(title = paste(\"Histogram of\", col), x = col, y = \"Count\") +\n",
    "        theme_minimal()\n",
    "\n",
    "    # Create boxplot\n",
    "    boxplot <- ggplot(df, aes_string(y = col)) +\n",
    "        geom_boxplot(fill = \"#F9E2AF\") +\n",
    "        labs(title = paste(\"Boxplot of\", col), y = col) +\n",
    "        theme_minimal()\n",
    "\n",
    "    # Combine plots\n",
    "    combined_plot <- grid.arrange(\n",
    "        histogram_plot,\n",
    "        boxplot,\n",
    "        ncol = 2\n",
    "    )\n",
    "\n",
    "    # Add mean and median lines\n",
    "    combined_plot <- combined_plot +\n",
    "        geom_vline(xintercept = mean_val, color = \"#A6E3A1\", linetype = \"dashed\", size = 1) +\n",
    "        geom_vline(xintercept = median_val, color = \"#CBA6F7\", linetype = \"dashed\", size = 1) +\n",
    "        annotate(\"text\", x = mean_val, y = 0, label = paste(\"Mean =\", round(mean_val, 2)), \n",
    "                 vjust = -1, color = \"#A6E3A1\") +\n",
    "        annotate(\"text\", x = median_val, y = 0, label = paste(\"Median =\", round(median_val, 2)), \n",
    "                 vjust = -1, color = \"#CBA6F7\")\n",
    "\n",
    "    print(combined_plot)\n",
    "}"
   ]
  },
  {
   "cell_type": "code",
   "execution_count": 80,
   "metadata": {
    "vscode": {
     "languageId": "r"
    }
   },
   "outputs": [
    {
     "name": "stdout",
     "output_type": "stream",
     "text": [
      "NULL\n",
      "NULL\n",
      "NULL\n",
      "NULL\n",
      "NULL\n",
      "NULL\n",
      "NULL\n",
      "NULL\n",
      "NULL\n",
      "NULL\n",
      "NULL\n"
     ]
    },
    {
     "data": {
      "image/png": "[encoded data removed]"
     },
     "metadata": {},
     "output_type": "display_data"
    }
   ],
   "source": [
    "music_vals <- c(\n",
    "  \"valence\",\n",
    "  \"acousticness\",\n",
    "  \"danceability\",\n",
    "  \"duration_min\",\n",
    "  \"energy\",\n",
    "  \"instrumentalness\",\n",
    "  \"liveness\",\n",
    "  \"loudness\",\n",
    "  \"popularity\",\n",
    "  \"speechiness\",\n",
    "  \"tempo\"\n",
    ")\n",
    "\n",
    "for (col in music_vals) {\n",
    "  fun_subplots_ggplot(df, col)\n",
    "}"
   ]
  }
 ],
 "metadata": {
  "language_info": {
   "name": "plaintext"
  }
 },
 "nbformat": 4,
 "nbformat_minor": 2
}
