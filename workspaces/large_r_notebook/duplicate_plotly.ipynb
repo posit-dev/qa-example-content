{
  "cells": [
    {
      "cell_type": "code",
      "execution_count": null,
      "metadata": {},
      "outputs": [],
      "source": [
        "library(plotly)\n",
        "# install.packages('mvtnorm')\n",
        "\n",
        "# change this to scale up or down per cell\n",
        "# 500,000 will create about a 77 Mb notebook on disk\n",
        "data_size = 500000\n",
        "\n",
        "s <- matrix(c(1, -.75, -.75, 1), ncol = 2)\n",
        "obs <- mvtnorm::rmvnorm(data_size, sigma = s)\n",
        "\n",
        "fig <- plot_ly(x = obs[,1], y = obs[,2])\n",
        "fig2 <- subplot(\n",
        "  fig %>% add_markers(alpha = 0.2),\n",
        "  fig %>% add_histogram2d()\n",
        ")\n",
        "\n",
        "fig2"
      ]
    }
  ],
  "metadata": {
    "language_info": {
      "name": "r"
    }
  },
  "nbformat": 4,
  "nbformat_minor": 4
}
