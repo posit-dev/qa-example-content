{
 "cells": [
  {
   "cell_type": "code",
   "execution_count": null,
   "id": "38bc0452",
   "metadata": {},
   "outputs": [],
   "source": [
    "%pwd"
   ]
  }
 ],
 "metadata": {
  "language_info": {
   "name": "python"
  }
 },
 "nbformat": 4,
 "nbformat_minor": 5
}
