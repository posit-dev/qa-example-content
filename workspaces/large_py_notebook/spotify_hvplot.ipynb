{
 "cells": [
  {
   "cell_type": "code",
   "execution_count": null,
   "metadata": {},
   "outputs": [],
   "source": [
    "import pandas as pd\n",
    "import hvplot.pandas  # Ensure hvplot is installed: `pip install hvplot`\n",
    "import os\n",
    "import holoviews as hv\n",
    "\n",
    "# Load the data from CSV\n",
    "df = pd.read_csv(os.path.join(os.getcwd(), '..', '..', 'data-files', 'spotify_data', 'data.csv'), parse_dates=[\"release_date\"])\n",
    "\n",
    "# Convert 'duration_ms' to minutes for easier interpretation\n",
    "df['duration_min'] = df['duration_ms'] / 60000\n",
    "\n",
    "# Setting up some useful columns for plotting\n",
    "df['year'] = df['year'].astype(int)  # Ensure year is an integer\n",
    "df['decade'] = (df['year'] // 10) * 10  # Group by decades\n",
    "\n",
    "# 1. Valence over the years\n",
    "valence_plot = df.hvplot.line(x='year', y='valence', title=\"Valence Over the Years\", ylabel=\"Valence\")\n",
    "\n",
    "# 2. Acousticness distribution\n",
    "acousticness_hist = df.hvplot.hist('acousticness', bins=30, title=\"Acousticness Distribution\", xlabel=\"Acousticness\")\n",
    "\n",
    "# 3. Danceability over time\n",
    "danceability_plot = df.hvplot.line(x='year', y='danceability', title=\"Danceability Over Time\", ylabel=\"Danceability\")\n",
    "\n",
    "# 4. Duration in minutes\n",
    "duration_plot = df.hvplot.hist('duration_min', bins=30, title=\"Distribution of Track Duration (minutes)\", xlabel=\"Duration (min)\")\n",
    "\n",
    "# 5. Popularity by year\n",
    "popularity_plot = df.hvplot.line(x='year', y='popularity', title=\"Popularity Over Years\", ylabel=\"Popularity\")\n",
    "\n",
    "# 6. Energy distribution by decade\n",
    "energy_plot = df.hvplot.violin(y='energy', by='decade', title=\"Energy Distribution by Decade\", ylabel=\"Energy\")\n",
    "\n",
    "# 7. Tempo histogram\n",
    "tempo_hist = df.hvplot.hist('tempo', bins=30, title=\"Tempo Distribution\", xlabel=\"Tempo (BPM)\")\n",
    "\n",
    "# 8. Loudness distribution\n",
    "loudness_hist = df.hvplot.hist('loudness', bins=30, title=\"Loudness Distribution\", xlabel=\"Loudness (dB)\")\n",
    "\n",
    "# 9. Speechiness across years\n",
    "speechiness_plot = df.hvplot.line(x='year', y='speechiness', title=\"Speechiness Over Years\", ylabel=\"Speechiness\")\n",
    "\n",
    "# 10. Count of tracks by decade\n",
    "track_count_plot = df.hvplot.hist('decade', title=\"Track Count by Decade\", xlabel=\"Decade\")\n",
    "\n",
    "# 11. Mode distribution\n",
    "mode_plot = df.hvplot.bar(x='mode', y='popularity', title=\"Average Popularity by Mode\", xlabel=\"Mode\", ylabel=\"Popularity\")\n",
    "\n",
    "# Display all plots in a single column layout\n",
    "layout = (valence_plot + acousticness_hist + danceability_plot + duration_plot + popularity_plot +\n",
    "          energy_plot + tempo_hist + loudness_hist + speechiness_plot + track_count_plot + mode_plot).cols(1)\n",
    "\n",
    "layout\n"
   ]
  }
 ],
 "metadata": {
  "kernelspec": {
   "display_name": "Python 3",
   "language": "python",
   "name": "python3"
  },
  "language_info": {
   "codemirror_mode": {
    "name": "ipython",
    "version": 3
   },
   "file_extension": ".py",
   "mimetype": "text/x-python",
   "name": "python",
   "nbconvert_exporter": "python",
   "pygments_lexer": "ipython3",
   "version": "3.10.12"
  }
 },
 "nbformat": 4,
 "nbformat_minor": 2
}
