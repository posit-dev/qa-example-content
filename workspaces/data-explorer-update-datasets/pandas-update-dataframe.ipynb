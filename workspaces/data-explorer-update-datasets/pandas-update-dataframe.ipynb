{
 "cells": [
  {
   "cell_type": "code",
   "execution_count": 1,
   "metadata": {},
   "outputs": [],
   "source": [
    "# Setup dataframe\n",
    "import pandas as pd\n",
    "import numpy as np\n",
    "\n",
    "years = list(range(2014, 2025))\n",
    "datapoints = np.random.normal(3, 0.5, len(years))\n",
    "\n",
    "df = pd.DataFrame({\n",
    "    'Year': years,\n",
    "    'DataPoint': datapoints\n",
    "})"
   ]
  },
  {
   "cell_type": "code",
   "execution_count": 2,
   "metadata": {},
   "outputs": [],
   "source": [
    "# Modify dataframe - Add Row\n",
    "new_year = [2025]\n",
    "new_datapoints = np.random.normal(4, 0.5, 1)\n",
    "new_df_2025 = pd.DataFrame({\n",
    "    'Year': new_year,\n",
    "    'DataPoint': new_datapoints\n",
    "})\n",
    "\n",
    "\n",
    "df = pd.concat([df, new_df_2025], ignore_index=True)"
   ]
  },
  {
   "cell_type": "code",
   "execution_count": 3,
   "metadata": {},
   "outputs": [],
   "source": [
    "# Modify dataframe - Remove Column\n",
    "\n",
    "df = df[['Year']]"
   ]
  }
 ],
 "metadata": {
  "language_info": {
   "name": "python"
  }
 },
 "nbformat": 4,
 "nbformat_minor": 2
}
